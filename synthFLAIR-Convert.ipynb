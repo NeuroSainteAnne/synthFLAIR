{
 "cells": [
  {
   "cell_type": "markdown",
   "metadata": {},
   "source": [
    "## Module loading"
   ]
  },
  {
   "cell_type": "code",
   "execution_count": null,
   "metadata": {},
   "outputs": [],
   "source": [
    "import os, glob\n",
    "import tensorflow as tf\n",
    "from modules.niftitools import nifti2array, array2nifti"
   ]
  },
  {
   "cell_type": "code",
   "execution_count": null,
   "metadata": {},
   "outputs": [],
   "source": [
    "input_dir = os.path.join(\"conversion\",\"nifti-input\")\n",
    "output_dir = os.path.join(\"conversion\",\"nifti-output\")"
   ]
  },
  {
   "cell_type": "markdown",
   "metadata": {},
   "source": [
    "## Load Generator"
   ]
  },
  {
   "cell_type": "code",
   "execution_count": null,
   "metadata": {},
   "outputs": [],
   "source": [
    "field = \"1.5\" # 1.5 / 3\n",
    "constructor = \"GE\" # GE, Philips or Siemens\n",
    "generator = tf.keras.models.load_model(\"saved_generators/\"+field+\"T_\"+constructor+\"/generator\")"
   ]
  },
  {
   "cell_type": "markdown",
   "metadata": {},
   "source": [
    "## Load input files and parse them"
   ]
  },
  {
   "cell_type": "code",
   "execution_count": null,
   "metadata": {},
   "outputs": [],
   "source": [
    "list_inputs = glob.glob(os.path.join(input_dir, \"*\"))\n",
    "for nifti in list_inputs:\n",
    "    outputname = os.path.join(output_dir, os.path.basename(nifti))\n",
    "    if not os.path.exists(outputname):\n",
    "        xVal, qVal, padding_specs, affine = nifti2array(nifti)\n",
    "        yVal = generator.predict([stacked, qualarr])\n",
    "        array2nifti(yVal, padding_specs, affine, outputname)"
   ]
  }
 ],
 "metadata": {
  "kernelspec": {
   "display_name": "Python 3 (ipykernel)",
   "language": "python",
   "name": "python3"
  },
  "language_info": {
   "codemirror_mode": {
    "name": "ipython",
    "version": 3
   },
   "file_extension": ".py",
   "mimetype": "text/x-python",
   "name": "python",
   "nbconvert_exporter": "python",
   "pygments_lexer": "ipython3",
   "version": "3.10.12"
  }
 },
 "nbformat": 4,
 "nbformat_minor": 4
}
