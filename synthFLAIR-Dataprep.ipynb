{
 "cells": [
  {
   "cell_type": "markdown",
   "metadata": {},
   "source": [
    "# Dataprep\n",
    "\n",
    "### Objective\n",
    "\n",
    "Crawls through raw_data directory and converts diffusion and flair into a data array \n",
    "\n",
    "### Prerequisites\n",
    "\n",
    "All diffusion and FLAIR should be registrated and put in a NIFTI file format.\n",
    "\n",
    "### Data organisation\n",
    "\n",
    "- All b0 diffusion should be named \"patientid_hX_DWIb0.nii.gz\" where \"hX\" corresponds to time delay and can be \"h0\" or \"h1\" (to stratify on delay)\n",
    "- All b1000 diffusion should be named \"patientid_hX_DWIb1000.nii.gz\" where \"hX\" corresponds to time delay and can be \"h0\" or \"h1\" (to stratify on delay)\n",
    "- All corresponding FLAIR sequences should be named: \"patientid_hX_qX_FLAIR.nii.gz\" where \"qX\" corresponds to quality and can be \"q0\" or \"q1\" or \"q2\" (to stratify on quality)\n",
    "- Optionally, you can add a weighted mask \"patientid_hX_MASK.nii.gz\" with values between 0 (background), 1 (brain mask) and 2 (stroke region) that will be used for training weight. If you don't provide it, a crude stroke segmentation with ADC < 600 will be used as a weighting map."
   ]
  },
  {
   "cell_type": "markdown",
   "metadata": {},
   "source": [
    "## Load modules"
   ]
  },
  {
   "cell_type": "code",
   "execution_count": null,
   "metadata": {},
   "outputs": [],
   "source": [
    "import os, glob, h5py\n",
    "import numpy as np\n",
    "from skimage.morphology import dilation, opening\n",
    "from modules.niftitools import twoniftis2array, flairnifti2array, masknifti2array"
   ]
  },
  {
   "cell_type": "markdown",
   "metadata": {},
   "source": [
    "## Crawl through files"
   ]
  },
  {
   "cell_type": "code",
   "execution_count": null,
   "metadata": {},
   "outputs": [],
   "source": [
    "dwifiles_precheck = glob.glob(os.path.join(\"raw_data\", \"*_DWIb0.nii.gz\"))\n",
    "patnames, timepoints, qualities, b0files, b1000files, flairfiles, maskfiles = [], [], [], [], [], [], []\n",
    "num_patients = 0\n",
    "for dwifile in dwifiles_precheck:\n",
    "    name, timepoint, _ = os.path.basename(dwifile).split(\"_\")\n",
    "    timepoint = int(timepoint.replace(\"h\",\"\"))\n",
    "    matchesb1000 = glob.glob(os.path.join(\"raw_data\", name+\"_h\"+str(timepoint)+\"_DWIb1000.nii.gz\"))\n",
    "    matchesFlair = glob.glob(os.path.join(\"raw_data\", name+\"_h\"+str(timepoint)+\"_q*_FLAIR.nii.gz\"))\n",
    "    if len(matchesFlair) and len(matchesb1000):\n",
    "        _, _, quality, _ = os.path.basename(matchesFlair[0]).split(\"_\")\n",
    "        patnames.append(name)\n",
    "        timepoints.append(timepoint)\n",
    "        qualities.append(int(quality.replace(\"q\",\"\")))\n",
    "        b0files.append(dwifile)\n",
    "        b1000files.append(matchesb1000[0])\n",
    "        flairfiles.append(matchesFlair[0])\n",
    "        matchesMask = glob.glob(os.path.join(\"raw_data\", name+\"_h\"+str(timepoint)+\"_MASK.nii.gz\"))\n",
    "        if len(matchesMask):\n",
    "            maskfiles.append(matchesMask[0])\n",
    "        else:\n",
    "            maskfiles.append(None)\n",
    "        num_patients += 1"
   ]
  },
  {
   "cell_type": "markdown",
   "metadata": {},
   "source": [
    "## Create data arrays"
   ]
  },
  {
   "cell_type": "code",
   "execution_count": null,
   "metadata": {},
   "outputs": [],
   "source": [
    "z_slices = 25\n",
    "outputdir = \"data\""
   ]
  },
  {
   "cell_type": "code",
   "execution_count": null,
   "metadata": {},
   "outputs": [],
   "source": [
    "with h5py.File(os.path.join(outputdir,\"metadata.hdf5\"), \"w\") as metadata:\n",
    "    metadata.create_dataset(\"patientnames\", data=np.array(patnames, dtype=\"S\"))\n",
    "    metadata.create_dataset(\"shape_x\", data=(num_patients,256,256,z_slices,3))\n",
    "    metadata.create_dataset(\"shape_y\", data=(num_patients,256,256,z_slices,1))\n",
    "    metadata.create_dataset(\"shape_mask\", data=(num_patients,256,256,z_slices,1))\n",
    "    metadata.create_dataset(\"shape_meta\", data=(num_patients,2))"
   ]
  },
  {
   "cell_type": "code",
   "execution_count": null,
   "metadata": {},
   "outputs": [],
   "source": [
    "fx = np.memmap(os.path.join(outputdir,\"data_x.dat\"), dtype=\"float32\", mode=\"w+\",\n",
    "               shape=(num_patients,256,256,z_slices,3))\n",
    "fy = np.memmap(os.path.join(outputdir,\"data_y.dat\"), dtype=\"float32\", mode=\"w+\",\n",
    "               shape=(num_patients,256,256,z_slices,1))\n",
    "fmask = np.memmap(os.path.join(outputdir,\"data_mask.dat\"), dtype=\"uint8\", mode=\"w+\",\n",
    "               shape=(num_patients,256,256,z_slices,1))\n",
    "fmeta = np.memmap(os.path.join(outputdir,\"data_meta.dat\"), dtype=\"float32\", mode=\"w+\",\n",
    "               shape=(num_patients,2))\n",
    "\n",
    "if num_patients > 0:\n",
    "    print(\"Imported following patients:\", end=\" \")\n",
    "\n",
    "for i in range(num_patients):\n",
    "    if i>0:\n",
    "        print(\", \",end=\"\")\n",
    "    fmeta[i,0] = qualities[i]\n",
    "    fmeta[i,1] = timepoints[i]\n",
    "    Xdata, mask, _ = twoniftis2array(b0files[i], b1000files[i],z_slices)\n",
    "    Xdata = Xdata.transpose(1,2,3,0)\n",
    "    fx[i] = Xdata\n",
    "    if maskfiles[i] is not None:\n",
    "        fmask[i] = masknifti2array(maskfiles[i],z_slices)[...,np.newaxis]\n",
    "    else:\n",
    "        crudemask = dilation(dilation(dilation(opening(np.logical_and(mask, Xdata[...,2]<600)))))\n",
    "        crudemask = crudemask.astype(\"uint8\") + mask.astype(\"uint8\")\n",
    "        fmask[i] = crudemask[...,np.newaxis]\n",
    "    fy[i] = flairnifti2array(flairfiles[i],mask,z_slices)[...,np.newaxis]\n",
    "    print(name, end=\"\")\n",
    "    \n",
    "del fx, fy, fmask, fmeta"
   ]
  },
  {
   "cell_type": "code",
   "execution_count": null,
   "metadata": {},
   "outputs": [],
   "source": []
  }
 ],
 "metadata": {
  "kernelspec": {
   "display_name": "Python 3 (ipykernel)",
   "language": "python",
   "name": "python3"
  },
  "language_info": {
   "codemirror_mode": {
    "name": "ipython",
    "version": 3
   },
   "file_extension": ".py",
   "mimetype": "text/x-python",
   "name": "python",
   "nbconvert_exporter": "python",
   "pygments_lexer": "ipython3",
   "version": "3.10.12"
  }
 },
 "nbformat": 4,
 "nbformat_minor": 4
}
